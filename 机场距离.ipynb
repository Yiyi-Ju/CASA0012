{
 "cells": [
  {
   "cell_type": "code",
   "execution_count": 1,
   "metadata": {},
   "outputs": [],
   "source": [
    "import math                               \n",
    "from math import radians, cos, sin, asin, sqrt\n",
    "# import the required libraries\n",
    "%matplotlib inline\n",
    "import pandas as pd\n",
    "import matplotlib.pyplot as plt\n",
    "import matplotlib.cm as cm\n",
    "import numpy as np\n",
    "import sys\n",
    "import time\n",
    "import calendar\n",
    "import seaborn as sns\n",
    "from scipy import stats\n",
    "\n",
    "import itertools"
   ]
  },
  {
   "cell_type": "code",
   "execution_count": 5,
   "metadata": {},
   "outputs": [],
   "source": [
    "house_df = pd.read_csv('His.csv', dayfirst = True)"
   ]
  },
  {
   "cell_type": "code",
   "execution_count": 6,
   "metadata": {},
   "outputs": [],
   "source": [
    "house_lat = np.array(house_df['lat'])\n",
    "house_long = np.array(house_df['long'])"
   ]
  },
  {
   "cell_type": "code",
   "execution_count": 4,
   "metadata": {},
   "outputs": [],
   "source": [
    "# Km\n",
    "\n",
    "def geodistance(lng1,lat1,lng2,lat2):\n",
    "    #lng1,lat1,lng2,lat2 = (120.12802999999997,30.28708,115.86572000000001,28.7427)\n",
    "      \n",
    "    lng1, lat1, lng2, lat2 = map(radians, [float(lng1), float(lat1), float(lng2), float(lat2)]) # 经纬度转换成弧度\n",
    "    dlon=lng2-lng1\n",
    "    dlat=lat2-lat1\n",
    "    a=sin(dlat/2)**2 + cos(lat1) * cos(lat2) * sin(dlon/2)**2\n",
    "    distance=2*asin(sqrt(a))*6371*1000 # 地球平均半径，6371km\n",
    "    distance=round(distance/1000,3)\n",
    "    return distance"
   ]
  },
  {
   "cell_type": "code",
   "execution_count": 7,
   "metadata": {},
   "outputs": [
    {
     "name": "stdout",
     "output_type": "stream",
     "text": [
      "<class 'pandas.core.frame.DataFrame'>\n",
      "RangeIndex: 50296 entries, 0 to 50295\n",
      "Data columns (total 10 columns):\n",
      " #   Column        Non-Null Count  Dtype  \n",
      "---  ------        --------------  -----  \n",
      " 0   Unnamed: 0    50296 non-null  int64  \n",
      " 1   pcd           50296 non-null  object \n",
      " 2   lat           50296 non-null  float64\n",
      " 3   long          50296 non-null  float64\n",
      " 4   H_distance    50296 non-null  float64\n",
      " 5   G_distance    50296 non-null  float64\n",
      " 6   S_distance    50296 non-null  float64\n",
      " 7   L_distance    50296 non-null  float64\n",
      " 8   C_distance    50296 non-null  float64\n",
      " 9   Sou_distance  50296 non-null  float64\n",
      "dtypes: float64(8), int64(1), object(1)\n",
      "memory usage: 3.8+ MB\n"
     ]
    }
   ],
   "source": [
    "house_df.info()"
   ]
  },
  {
   "cell_type": "code",
   "execution_count": 8,
   "metadata": {},
   "outputs": [],
   "source": [
    "Rail = house_df[['pcd','lat','long']]"
   ]
  },
  {
   "cell_type": "code",
   "execution_count": 9,
   "metadata": {},
   "outputs": [
    {
     "name": "stderr",
     "output_type": "stream",
     "text": [
      "/opt/conda/envs/sds2020/lib/python3.7/site-packages/ipykernel_launcher.py:4: SettingWithCopyWarning: \n",
      "A value is trying to be set on a copy of a slice from a DataFrame.\n",
      "Try using .loc[row_indexer,col_indexer] = value instead\n",
      "\n",
      "See the caveats in the documentation: https://pandas.pydata.org/pandas-docs/stable/user_guide/indexing.html#returning-a-view-versus-a-copy\n",
      "  after removing the cwd from sys.path.\n"
     ]
    }
   ],
   "source": [
    "distance = []\n",
    "for i,l in zip(house_long,house_lat):\n",
    "    distance.append(geodistance(i,l,'-0.1263','51.5325'))\n",
    "Rail['St_distance'] = distance"
   ]
  },
  {
   "cell_type": "code",
   "execution_count": 11,
   "metadata": {},
   "outputs": [
    {
     "name": "stdout",
     "output_type": "stream",
     "text": [
      "<class 'pandas.core.frame.DataFrame'>\n",
      "RangeIndex: 50296 entries, 0 to 50295\n",
      "Data columns (total 4 columns):\n",
      " #   Column       Non-Null Count  Dtype  \n",
      "---  ------       --------------  -----  \n",
      " 0   pcd          50296 non-null  object \n",
      " 1   lat          50296 non-null  float64\n",
      " 2   long         50296 non-null  float64\n",
      " 3   St_distance  50296 non-null  float64\n",
      "dtypes: float64(3), object(1)\n",
      "memory usage: 1.5+ MB\n"
     ]
    },
    {
     "data": {
      "text/html": [
       "<div>\n",
       "<style scoped>\n",
       "    .dataframe tbody tr th:only-of-type {\n",
       "        vertical-align: middle;\n",
       "    }\n",
       "\n",
       "    .dataframe tbody tr th {\n",
       "        vertical-align: top;\n",
       "    }\n",
       "\n",
       "    .dataframe thead th {\n",
       "        text-align: right;\n",
       "    }\n",
       "</style>\n",
       "<table border=\"1\" class=\"dataframe\">\n",
       "  <thead>\n",
       "    <tr style=\"text-align: right;\">\n",
       "      <th></th>\n",
       "      <th>pcd</th>\n",
       "      <th>lat</th>\n",
       "      <th>long</th>\n",
       "      <th>St_distance</th>\n",
       "    </tr>\n",
       "  </thead>\n",
       "  <tbody>\n",
       "    <tr>\n",
       "      <th>0</th>\n",
       "      <td>BR11AA</td>\n",
       "      <td>51.401546</td>\n",
       "      <td>0.015415</td>\n",
       "      <td>17.561</td>\n",
       "    </tr>\n",
       "    <tr>\n",
       "      <th>1</th>\n",
       "      <td>BR11BQ</td>\n",
       "      <td>51.408058</td>\n",
       "      <td>0.015874</td>\n",
       "      <td>16.984</td>\n",
       "    </tr>\n",
       "    <tr>\n",
       "      <th>2</th>\n",
       "      <td>BR11EZ</td>\n",
       "      <td>51.404336</td>\n",
       "      <td>0.014761</td>\n",
       "      <td>17.279</td>\n",
       "    </tr>\n",
       "    <tr>\n",
       "      <th>3</th>\n",
       "      <td>BR11HT</td>\n",
       "      <td>51.401521</td>\n",
       "      <td>0.014249</td>\n",
       "      <td>17.519</td>\n",
       "    </tr>\n",
       "    <tr>\n",
       "      <th>4</th>\n",
       "      <td>BR11JA</td>\n",
       "      <td>51.401897</td>\n",
       "      <td>0.014323</td>\n",
       "      <td>17.487</td>\n",
       "    </tr>\n",
       "  </tbody>\n",
       "</table>\n",
       "</div>"
      ],
      "text/plain": [
       "      pcd        lat      long  St_distance\n",
       "0  BR11AA  51.401546  0.015415       17.561\n",
       "1  BR11BQ  51.408058  0.015874       16.984\n",
       "2  BR11EZ  51.404336  0.014761       17.279\n",
       "3  BR11HT  51.401521  0.014249       17.519\n",
       "4  BR11JA  51.401897  0.014323       17.487"
      ]
     },
     "execution_count": 11,
     "metadata": {},
     "output_type": "execute_result"
    }
   ],
   "source": [
    "Rail.info()\n",
    "Rail.head(5)"
   ]
  },
  {
   "cell_type": "code",
   "execution_count": 12,
   "metadata": {},
   "outputs": [
    {
     "name": "stderr",
     "output_type": "stream",
     "text": [
      "/opt/conda/envs/sds2020/lib/python3.7/site-packages/ipykernel_launcher.py:4: SettingWithCopyWarning: \n",
      "A value is trying to be set on a copy of a slice from a DataFrame.\n",
      "Try using .loc[row_indexer,col_indexer] = value instead\n",
      "\n",
      "See the caveats in the documentation: https://pandas.pydata.org/pandas-docs/stable/user_guide/indexing.html#returning-a-view-versus-a-copy\n",
      "  after removing the cwd from sys.path.\n"
     ]
    }
   ],
   "source": [
    "distance = []\n",
    "for i,l in zip(house_long,house_lat):\n",
    "    distance.append(geodistance(i,l,'-0.123332','51.530833'))\n",
    "Rail['Ki_distance'] = distance"
   ]
  },
  {
   "cell_type": "code",
   "execution_count": 13,
   "metadata": {},
   "outputs": [
    {
     "name": "stdout",
     "output_type": "stream",
     "text": [
      "<class 'pandas.core.frame.DataFrame'>\n",
      "RangeIndex: 50296 entries, 0 to 50295\n",
      "Data columns (total 5 columns):\n",
      " #   Column       Non-Null Count  Dtype  \n",
      "---  ------       --------------  -----  \n",
      " 0   pcd          50296 non-null  object \n",
      " 1   lat          50296 non-null  float64\n",
      " 2   long         50296 non-null  float64\n",
      " 3   St_distance  50296 non-null  float64\n",
      " 4   Ki_distance  50296 non-null  float64\n",
      "dtypes: float64(4), object(1)\n",
      "memory usage: 1.9+ MB\n"
     ]
    },
    {
     "data": {
      "text/html": [
       "<div>\n",
       "<style scoped>\n",
       "    .dataframe tbody tr th:only-of-type {\n",
       "        vertical-align: middle;\n",
       "    }\n",
       "\n",
       "    .dataframe tbody tr th {\n",
       "        vertical-align: top;\n",
       "    }\n",
       "\n",
       "    .dataframe thead th {\n",
       "        text-align: right;\n",
       "    }\n",
       "</style>\n",
       "<table border=\"1\" class=\"dataframe\">\n",
       "  <thead>\n",
       "    <tr style=\"text-align: right;\">\n",
       "      <th></th>\n",
       "      <th>pcd</th>\n",
       "      <th>lat</th>\n",
       "      <th>long</th>\n",
       "      <th>St_distance</th>\n",
       "      <th>Ki_distance</th>\n",
       "    </tr>\n",
       "  </thead>\n",
       "  <tbody>\n",
       "    <tr>\n",
       "      <th>0</th>\n",
       "      <td>BR11AA</td>\n",
       "      <td>51.401546</td>\n",
       "      <td>0.015415</td>\n",
       "      <td>17.561</td>\n",
       "      <td>17.293</td>\n",
       "    </tr>\n",
       "    <tr>\n",
       "      <th>1</th>\n",
       "      <td>BR11BQ</td>\n",
       "      <td>51.408058</td>\n",
       "      <td>0.015874</td>\n",
       "      <td>16.984</td>\n",
       "      <td>16.714</td>\n",
       "    </tr>\n",
       "    <tr>\n",
       "      <th>2</th>\n",
       "      <td>BR11EZ</td>\n",
       "      <td>51.404336</td>\n",
       "      <td>0.014761</td>\n",
       "      <td>17.279</td>\n",
       "      <td>17.010</td>\n",
       "    </tr>\n",
       "    <tr>\n",
       "      <th>3</th>\n",
       "      <td>BR11HT</td>\n",
       "      <td>51.401521</td>\n",
       "      <td>0.014249</td>\n",
       "      <td>17.519</td>\n",
       "      <td>17.251</td>\n",
       "    </tr>\n",
       "    <tr>\n",
       "      <th>4</th>\n",
       "      <td>BR11JA</td>\n",
       "      <td>51.401897</td>\n",
       "      <td>0.014323</td>\n",
       "      <td>17.487</td>\n",
       "      <td>17.219</td>\n",
       "    </tr>\n",
       "  </tbody>\n",
       "</table>\n",
       "</div>"
      ],
      "text/plain": [
       "      pcd        lat      long  St_distance  Ki_distance\n",
       "0  BR11AA  51.401546  0.015415       17.561       17.293\n",
       "1  BR11BQ  51.408058  0.015874       16.984       16.714\n",
       "2  BR11EZ  51.404336  0.014761       17.279       17.010\n",
       "3  BR11HT  51.401521  0.014249       17.519       17.251\n",
       "4  BR11JA  51.401897  0.014323       17.487       17.219"
      ]
     },
     "execution_count": 13,
     "metadata": {},
     "output_type": "execute_result"
    }
   ],
   "source": [
    "Rail.info()\n",
    "Rail.head(5)"
   ]
  },
  {
   "cell_type": "code",
   "execution_count": 14,
   "metadata": {},
   "outputs": [
    {
     "name": "stderr",
     "output_type": "stream",
     "text": [
      "/opt/conda/envs/sds2020/lib/python3.7/site-packages/ipykernel_launcher.py:4: SettingWithCopyWarning: \n",
      "A value is trying to be set on a copy of a slice from a DataFrame.\n",
      "Try using .loc[row_indexer,col_indexer] = value instead\n",
      "\n",
      "See the caveats in the documentation: https://pandas.pydata.org/pandas-docs/stable/user_guide/indexing.html#returning-a-view-versus-a-copy\n",
      "  after removing the cwd from sys.path.\n"
     ]
    }
   ],
   "source": [
    "distance = []\n",
    "for i,l in zip(house_long,house_lat):\n",
    "    distance.append(geodistance(i,l,'-0.112777','51.503056'))\n",
    "Rail['Wa_distance'] = distance"
   ]
  },
  {
   "cell_type": "code",
   "execution_count": 15,
   "metadata": {},
   "outputs": [
    {
     "name": "stderr",
     "output_type": "stream",
     "text": [
      "/opt/conda/envs/sds2020/lib/python3.7/site-packages/ipykernel_launcher.py:4: SettingWithCopyWarning: \n",
      "A value is trying to be set on a copy of a slice from a DataFrame.\n",
      "Try using .loc[row_indexer,col_indexer] = value instead\n",
      "\n",
      "See the caveats in the documentation: https://pandas.pydata.org/pandas-docs/stable/user_guide/indexing.html#returning-a-view-versus-a-copy\n",
      "  after removing the cwd from sys.path.\n"
     ]
    }
   ],
   "source": [
    "distance = []\n",
    "for i,l in zip(house_long,house_lat):\n",
    "    distance.append(geodistance(i,l,'-0.143849','51.5419359'))\n",
    "Rail['Vic_distance'] = distance"
   ]
  },
  {
   "cell_type": "code",
   "execution_count": 16,
   "metadata": {},
   "outputs": [
    {
     "name": "stdout",
     "output_type": "stream",
     "text": [
      "<class 'pandas.core.frame.DataFrame'>\n",
      "RangeIndex: 50296 entries, 0 to 50295\n",
      "Data columns (total 7 columns):\n",
      " #   Column        Non-Null Count  Dtype  \n",
      "---  ------        --------------  -----  \n",
      " 0   pcd           50296 non-null  object \n",
      " 1   lat           50296 non-null  float64\n",
      " 2   long          50296 non-null  float64\n",
      " 3   St_distance   50296 non-null  float64\n",
      " 4   Ki_distance   50296 non-null  float64\n",
      " 5   Wa_distance   50296 non-null  float64\n",
      " 6   Vic_distance  50296 non-null  float64\n",
      "dtypes: float64(6), object(1)\n",
      "memory usage: 2.7+ MB\n"
     ]
    },
    {
     "data": {
      "text/html": [
       "<div>\n",
       "<style scoped>\n",
       "    .dataframe tbody tr th:only-of-type {\n",
       "        vertical-align: middle;\n",
       "    }\n",
       "\n",
       "    .dataframe tbody tr th {\n",
       "        vertical-align: top;\n",
       "    }\n",
       "\n",
       "    .dataframe thead th {\n",
       "        text-align: right;\n",
       "    }\n",
       "</style>\n",
       "<table border=\"1\" class=\"dataframe\">\n",
       "  <thead>\n",
       "    <tr style=\"text-align: right;\">\n",
       "      <th></th>\n",
       "      <th>pcd</th>\n",
       "      <th>lat</th>\n",
       "      <th>long</th>\n",
       "      <th>St_distance</th>\n",
       "      <th>Ki_distance</th>\n",
       "      <th>Wa_distance</th>\n",
       "      <th>Vic_distance</th>\n",
       "    </tr>\n",
       "  </thead>\n",
       "  <tbody>\n",
       "    <tr>\n",
       "      <th>0</th>\n",
       "      <td>BR11AA</td>\n",
       "      <td>51.401546</td>\n",
       "      <td>0.015415</td>\n",
       "      <td>17.561</td>\n",
       "      <td>17.293</td>\n",
       "      <td>14.363</td>\n",
       "      <td>19.115</td>\n",
       "    </tr>\n",
       "    <tr>\n",
       "      <th>1</th>\n",
       "      <td>BR11BQ</td>\n",
       "      <td>51.408058</td>\n",
       "      <td>0.015874</td>\n",
       "      <td>16.984</td>\n",
       "      <td>16.714</td>\n",
       "      <td>13.822</td>\n",
       "      <td>18.547</td>\n",
       "    </tr>\n",
       "    <tr>\n",
       "      <th>2</th>\n",
       "      <td>BR11EZ</td>\n",
       "      <td>51.404336</td>\n",
       "      <td>0.014761</td>\n",
       "      <td>17.279</td>\n",
       "      <td>17.010</td>\n",
       "      <td>14.092</td>\n",
       "      <td>18.836</td>\n",
       "    </tr>\n",
       "    <tr>\n",
       "      <th>3</th>\n",
       "      <td>BR11HT</td>\n",
       "      <td>51.401521</td>\n",
       "      <td>0.014249</td>\n",
       "      <td>17.519</td>\n",
       "      <td>17.251</td>\n",
       "      <td>14.316</td>\n",
       "      <td>19.071</td>\n",
       "    </tr>\n",
       "    <tr>\n",
       "      <th>4</th>\n",
       "      <td>BR11JA</td>\n",
       "      <td>51.401897</td>\n",
       "      <td>0.014323</td>\n",
       "      <td>17.487</td>\n",
       "      <td>17.219</td>\n",
       "      <td>14.286</td>\n",
       "      <td>19.039</td>\n",
       "    </tr>\n",
       "  </tbody>\n",
       "</table>\n",
       "</div>"
      ],
      "text/plain": [
       "      pcd        lat      long  St_distance  Ki_distance  Wa_distance  \\\n",
       "0  BR11AA  51.401546  0.015415       17.561       17.293       14.363   \n",
       "1  BR11BQ  51.408058  0.015874       16.984       16.714       13.822   \n",
       "2  BR11EZ  51.404336  0.014761       17.279       17.010       14.092   \n",
       "3  BR11HT  51.401521  0.014249       17.519       17.251       14.316   \n",
       "4  BR11JA  51.401897  0.014323       17.487       17.219       14.286   \n",
       "\n",
       "   Vic_distance  \n",
       "0        19.115  \n",
       "1        18.547  \n",
       "2        18.836  \n",
       "3        19.071  \n",
       "4        19.039  "
      ]
     },
     "execution_count": 16,
     "metadata": {},
     "output_type": "execute_result"
    }
   ],
   "source": [
    "Rail.info()\n",
    "Rail.head(5)"
   ]
  },
  {
   "cell_type": "code",
   "execution_count": 17,
   "metadata": {},
   "outputs": [
    {
     "name": "stderr",
     "output_type": "stream",
     "text": [
      "/opt/conda/envs/sds2020/lib/python3.7/site-packages/ipykernel_launcher.py:4: SettingWithCopyWarning: \n",
      "A value is trying to be set on a copy of a slice from a DataFrame.\n",
      "Try using .loc[row_indexer,col_indexer] = value instead\n",
      "\n",
      "See the caveats in the documentation: https://pandas.pydata.org/pandas-docs/stable/user_guide/indexing.html#returning-a-view-versus-a-copy\n",
      "  after removing the cwd from sys.path.\n"
     ]
    }
   ],
   "source": [
    "distance = []\n",
    "for i,l in zip(house_long,house_lat):\n",
    "    distance.append(geodistance(i,l,'-0.0801','51.5178'))\n",
    "Rail['Liv_distance'] = distance"
   ]
  },
  {
   "cell_type": "code",
   "execution_count": 18,
   "metadata": {},
   "outputs": [
    {
     "name": "stderr",
     "output_type": "stream",
     "text": [
      "/opt/conda/envs/sds2020/lib/python3.7/site-packages/ipykernel_launcher.py:4: SettingWithCopyWarning: \n",
      "A value is trying to be set on a copy of a slice from a DataFrame.\n",
      "Try using .loc[row_indexer,col_indexer] = value instead\n",
      "\n",
      "See the caveats in the documentation: https://pandas.pydata.org/pandas-docs/stable/user_guide/indexing.html#returning-a-view-versus-a-copy\n",
      "  after removing the cwd from sys.path.\n"
     ]
    }
   ],
   "source": [
    "distance = []\n",
    "for i,l in zip(house_long,house_lat):\n",
    "    distance.append(geodistance(i,l,' -0.0942','51.47'))\n",
    "Rail['Lond_distance'] = distance"
   ]
  },
  {
   "cell_type": "code",
   "execution_count": 19,
   "metadata": {},
   "outputs": [],
   "source": [
    "distance = []\n",
    "for i,l in zip(house_long,house_lat):\n",
    "    distance.append(geodistance(i,l,'-0.1247618','51.5081364'))\n",
    "Rail['Char_distance'] = distance"
   ]
  },
  {
   "cell_type": "code",
   "execution_count": 20,
   "metadata": {},
   "outputs": [],
   "source": [
    "distance = []\n",
    "for i,l in zip(house_long,house_lat):\n",
    "    distance.append(geodistance(i,l,'-0.133888','51.528333'))\n",
    "Rail['Eus_distance'] = distance"
   ]
  },
  {
   "cell_type": "code",
   "execution_count": 21,
   "metadata": {},
   "outputs": [],
   "source": [
    "distance = []\n",
    "for i,l in zip(house_long,house_lat):\n",
    "    distance.append(geodistance(i,l,'-0.175743',' 51.5154'))\n",
    "Rail['Padd_distance'] = distance"
   ]
  },
  {
   "cell_type": "code",
   "execution_count": 22,
   "metadata": {},
   "outputs": [
    {
     "name": "stdout",
     "output_type": "stream",
     "text": [
      "<class 'pandas.core.frame.DataFrame'>\n",
      "RangeIndex: 50296 entries, 0 to 50295\n",
      "Data columns (total 12 columns):\n",
      " #   Column         Non-Null Count  Dtype  \n",
      "---  ------         --------------  -----  \n",
      " 0   pcd            50296 non-null  object \n",
      " 1   lat            50296 non-null  float64\n",
      " 2   long           50296 non-null  float64\n",
      " 3   St_distance    50296 non-null  float64\n",
      " 4   Ki_distance    50296 non-null  float64\n",
      " 5   Wa_distance    50296 non-null  float64\n",
      " 6   Vic_distance   50296 non-null  float64\n",
      " 7   Liv_distance   50296 non-null  float64\n",
      " 8   Lond_distance  50296 non-null  float64\n",
      " 9   Char_distance  50296 non-null  float64\n",
      " 10  Eus_distance   50296 non-null  float64\n",
      " 11  Padd_distance  50296 non-null  float64\n",
      "dtypes: float64(11), object(1)\n",
      "memory usage: 4.6+ MB\n"
     ]
    },
    {
     "data": {
      "text/html": [
       "<div>\n",
       "<style scoped>\n",
       "    .dataframe tbody tr th:only-of-type {\n",
       "        vertical-align: middle;\n",
       "    }\n",
       "\n",
       "    .dataframe tbody tr th {\n",
       "        vertical-align: top;\n",
       "    }\n",
       "\n",
       "    .dataframe thead th {\n",
       "        text-align: right;\n",
       "    }\n",
       "</style>\n",
       "<table border=\"1\" class=\"dataframe\">\n",
       "  <thead>\n",
       "    <tr style=\"text-align: right;\">\n",
       "      <th></th>\n",
       "      <th>pcd</th>\n",
       "      <th>lat</th>\n",
       "      <th>long</th>\n",
       "      <th>St_distance</th>\n",
       "      <th>Ki_distance</th>\n",
       "      <th>Wa_distance</th>\n",
       "      <th>Vic_distance</th>\n",
       "      <th>Liv_distance</th>\n",
       "      <th>Lond_distance</th>\n",
       "      <th>Char_distance</th>\n",
       "      <th>Eus_distance</th>\n",
       "      <th>Padd_distance</th>\n",
       "    </tr>\n",
       "  </thead>\n",
       "  <tbody>\n",
       "    <tr>\n",
       "      <th>0</th>\n",
       "      <td>BR11AA</td>\n",
       "      <td>51.401546</td>\n",
       "      <td>0.015415</td>\n",
       "      <td>17.561</td>\n",
       "      <td>17.293</td>\n",
       "      <td>14.363</td>\n",
       "      <td>19.115</td>\n",
       "      <td>14.522</td>\n",
       "      <td>10.755</td>\n",
       "      <td>15.324</td>\n",
       "      <td>17.485</td>\n",
       "      <td>18.322</td>\n",
       "    </tr>\n",
       "    <tr>\n",
       "      <th>1</th>\n",
       "      <td>BR11BQ</td>\n",
       "      <td>51.408058</td>\n",
       "      <td>0.015874</td>\n",
       "      <td>16.984</td>\n",
       "      <td>16.714</td>\n",
       "      <td>13.822</td>\n",
       "      <td>18.547</td>\n",
       "      <td>13.897</td>\n",
       "      <td>10.279</td>\n",
       "      <td>14.791</td>\n",
       "      <td>16.926</td>\n",
       "      <td>17.852</td>\n",
       "    </tr>\n",
       "    <tr>\n",
       "      <th>2</th>\n",
       "      <td>BR11EZ</td>\n",
       "      <td>51.404336</td>\n",
       "      <td>0.014761</td>\n",
       "      <td>17.279</td>\n",
       "      <td>17.010</td>\n",
       "      <td>14.092</td>\n",
       "      <td>18.836</td>\n",
       "      <td>14.226</td>\n",
       "      <td>10.505</td>\n",
       "      <td>15.056</td>\n",
       "      <td>17.209</td>\n",
       "      <td>18.075</td>\n",
       "    </tr>\n",
       "    <tr>\n",
       "      <th>3</th>\n",
       "      <td>BR11HT</td>\n",
       "      <td>51.401521</td>\n",
       "      <td>0.014249</td>\n",
       "      <td>17.519</td>\n",
       "      <td>17.251</td>\n",
       "      <td>14.316</td>\n",
       "      <td>19.071</td>\n",
       "      <td>14.488</td>\n",
       "      <td>10.700</td>\n",
       "      <td>15.275</td>\n",
       "      <td>17.440</td>\n",
       "      <td>18.265</td>\n",
       "    </tr>\n",
       "    <tr>\n",
       "      <th>4</th>\n",
       "      <td>BR11JA</td>\n",
       "      <td>51.401897</td>\n",
       "      <td>0.014323</td>\n",
       "      <td>17.487</td>\n",
       "      <td>17.219</td>\n",
       "      <td>14.286</td>\n",
       "      <td>19.039</td>\n",
       "      <td>14.453</td>\n",
       "      <td>10.674</td>\n",
       "      <td>15.246</td>\n",
       "      <td>17.409</td>\n",
       "      <td>18.240</td>\n",
       "    </tr>\n",
       "  </tbody>\n",
       "</table>\n",
       "</div>"
      ],
      "text/plain": [
       "      pcd        lat      long  St_distance  Ki_distance  Wa_distance  \\\n",
       "0  BR11AA  51.401546  0.015415       17.561       17.293       14.363   \n",
       "1  BR11BQ  51.408058  0.015874       16.984       16.714       13.822   \n",
       "2  BR11EZ  51.404336  0.014761       17.279       17.010       14.092   \n",
       "3  BR11HT  51.401521  0.014249       17.519       17.251       14.316   \n",
       "4  BR11JA  51.401897  0.014323       17.487       17.219       14.286   \n",
       "\n",
       "   Vic_distance  Liv_distance  Lond_distance  Char_distance  Eus_distance  \\\n",
       "0        19.115        14.522         10.755         15.324        17.485   \n",
       "1        18.547        13.897         10.279         14.791        16.926   \n",
       "2        18.836        14.226         10.505         15.056        17.209   \n",
       "3        19.071        14.488         10.700         15.275        17.440   \n",
       "4        19.039        14.453         10.674         15.246        17.409   \n",
       "\n",
       "   Padd_distance  \n",
       "0         18.322  \n",
       "1         17.852  \n",
       "2         18.075  \n",
       "3         18.265  \n",
       "4         18.240  "
      ]
     },
     "execution_count": 22,
     "metadata": {},
     "output_type": "execute_result"
    }
   ],
   "source": [
    "Rail.info()\n",
    "Rail.head(5)"
   ]
  },
  {
   "cell_type": "code",
   "execution_count": 23,
   "metadata": {},
   "outputs": [],
   "source": [
    "Rail.to_csv('Rail.csv')"
   ]
  },
  {
   "cell_type": "code",
   "execution_count": null,
   "metadata": {},
   "outputs": [],
   "source": []
  }
 ],
 "metadata": {
  "kernelspec": {
   "display_name": "Python 3",
   "language": "python",
   "name": "python3"
  },
  "language_info": {
   "codemirror_mode": {
    "name": "ipython",
    "version": 3
   },
   "file_extension": ".py",
   "mimetype": "text/x-python",
   "name": "python",
   "nbconvert_exporter": "python",
   "pygments_lexer": "ipython3",
   "version": "3.7.8"
  }
 },
 "nbformat": 4,
 "nbformat_minor": 4
}
